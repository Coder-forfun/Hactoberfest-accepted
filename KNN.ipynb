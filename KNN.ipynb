{
 "cells": [
  {
   "cell_type": "code",
   "execution_count": 1,
   "id": "368abce9",
   "metadata": {},
   "outputs": [],
   "source": [
    "import numpy as np\n",
    "import matplotlib.pyplot as plt\n",
    "import pandas as pd\n",
    "import seaborn as sns"
   ]
  },
  {
   "cell_type": "code",
   "execution_count": 2,
   "id": "b88bcef8",
   "metadata": {},
   "outputs": [],
   "source": [
    "df = pd.read_csv('iris.data.csv')"
   ]
  },
  {
   "cell_type": "code",
   "execution_count": 3,
   "id": "40e343e2",
   "metadata": {
    "scrolled": true
   },
   "outputs": [
    {
     "data": {
      "text/html": [
       "<div>\n",
       "<style scoped>\n",
       "    .dataframe tbody tr th:only-of-type {\n",
       "        vertical-align: middle;\n",
       "    }\n",
       "\n",
       "    .dataframe tbody tr th {\n",
       "        vertical-align: top;\n",
       "    }\n",
       "\n",
       "    .dataframe thead th {\n",
       "        text-align: right;\n",
       "    }\n",
       "</style>\n",
       "<table border=\"1\" class=\"dataframe\">\n",
       "  <thead>\n",
       "    <tr style=\"text-align: right;\">\n",
       "      <th></th>\n",
       "      <th>A</th>\n",
       "      <th>B</th>\n",
       "      <th>C</th>\n",
       "      <th>D</th>\n",
       "      <th>Type</th>\n",
       "    </tr>\n",
       "  </thead>\n",
       "  <tbody>\n",
       "    <tr>\n",
       "      <th>0</th>\n",
       "      <td>5.1</td>\n",
       "      <td>3.5</td>\n",
       "      <td>1.4</td>\n",
       "      <td>0.2</td>\n",
       "      <td>Iris-setosa</td>\n",
       "    </tr>\n",
       "    <tr>\n",
       "      <th>1</th>\n",
       "      <td>4.9</td>\n",
       "      <td>3.0</td>\n",
       "      <td>1.4</td>\n",
       "      <td>0.2</td>\n",
       "      <td>Iris-setosa</td>\n",
       "    </tr>\n",
       "    <tr>\n",
       "      <th>2</th>\n",
       "      <td>4.7</td>\n",
       "      <td>3.2</td>\n",
       "      <td>1.3</td>\n",
       "      <td>0.2</td>\n",
       "      <td>Iris-setosa</td>\n",
       "    </tr>\n",
       "    <tr>\n",
       "      <th>3</th>\n",
       "      <td>4.6</td>\n",
       "      <td>3.1</td>\n",
       "      <td>1.5</td>\n",
       "      <td>0.2</td>\n",
       "      <td>Iris-setosa</td>\n",
       "    </tr>\n",
       "    <tr>\n",
       "      <th>4</th>\n",
       "      <td>5.0</td>\n",
       "      <td>3.6</td>\n",
       "      <td>1.4</td>\n",
       "      <td>0.2</td>\n",
       "      <td>Iris-setosa</td>\n",
       "    </tr>\n",
       "  </tbody>\n",
       "</table>\n",
       "</div>"
      ],
      "text/plain": [
       "     A    B    C    D         Type\n",
       "0  5.1  3.5  1.4  0.2  Iris-setosa\n",
       "1  4.9  3.0  1.4  0.2  Iris-setosa\n",
       "2  4.7  3.2  1.3  0.2  Iris-setosa\n",
       "3  4.6  3.1  1.5  0.2  Iris-setosa\n",
       "4  5.0  3.6  1.4  0.2  Iris-setosa"
      ]
     },
     "execution_count": 3,
     "metadata": {},
     "output_type": "execute_result"
    }
   ],
   "source": [
    "df.head()"
   ]
  },
  {
   "cell_type": "code",
   "execution_count": 4,
   "id": "5b03a2ad",
   "metadata": {},
   "outputs": [
    {
     "data": {
      "text/plain": [
       "A       False\n",
       "B       False\n",
       "C       False\n",
       "D       False\n",
       "Type    False\n",
       "dtype: bool"
      ]
     },
     "execution_count": 4,
     "metadata": {},
     "output_type": "execute_result"
    }
   ],
   "source": [
    "df.isnull().any()"
   ]
  },
  {
   "cell_type": "code",
   "execution_count": 5,
   "id": "aa249edb",
   "metadata": {},
   "outputs": [
    {
     "data": {
      "text/plain": [
       "<AxesSubplot:>"
      ]
     },
     "execution_count": 5,
     "metadata": {},
     "output_type": "execute_result"
    },
    {
     "data": {
      "image/png": "[encoded data removed]",
      "text/plain": [
       "<Figure size 1440x1440 with 2 Axes>"
      ]
     },
     "metadata": {
      "needs_background": "light"
     },
     "output_type": "display_data"
    }
   ],
   "source": [
    "f,ax = plt.subplots(figsize=(20, 20))\n",
    "sns.heatmap(df.corr(), annot=True, linewidths=.5, fmt= '.1f',ax=ax)"
   ]
  },
  {
   "cell_type": "code",
   "execution_count": 6,
   "id": "d6b7e694",
   "metadata": {},
   "outputs": [],
   "source": [
    "df.drop(['A'],axis = 1, inplace = True)"
   ]
  },
  {
   "cell_type": "code",
   "execution_count": 7,
   "id": "ddd1828a",
   "metadata": {},
   "outputs": [
    {
     "data": {
      "text/html": [
       "<div>\n",
       "<style scoped>\n",
       "    .dataframe tbody tr th:only-of-type {\n",
       "        vertical-align: middle;\n",
       "    }\n",
       "\n",
       "    .dataframe tbody tr th {\n",
       "        vertical-align: top;\n",
       "    }\n",
       "\n",
       "    .dataframe thead th {\n",
       "        text-align: right;\n",
       "    }\n",
       "</style>\n",
       "<table border=\"1\" class=\"dataframe\">\n",
       "  <thead>\n",
       "    <tr style=\"text-align: right;\">\n",
       "      <th></th>\n",
       "      <th>B</th>\n",
       "      <th>C</th>\n",
       "      <th>D</th>\n",
       "    </tr>\n",
       "  </thead>\n",
       "  <tbody>\n",
       "    <tr>\n",
       "      <th>count</th>\n",
       "      <td>150.000000</td>\n",
       "      <td>150.000000</td>\n",
       "      <td>150.000000</td>\n",
       "    </tr>\n",
       "    <tr>\n",
       "      <th>mean</th>\n",
       "      <td>3.054000</td>\n",
       "      <td>3.758667</td>\n",
       "      <td>1.198667</td>\n",
       "    </tr>\n",
       "    <tr>\n",
       "      <th>std</th>\n",
       "      <td>0.433594</td>\n",
       "      <td>1.764420</td>\n",
       "      <td>0.763161</td>\n",
       "    </tr>\n",
       "    <tr>\n",
       "      <th>min</th>\n",
       "      <td>2.000000</td>\n",
       "      <td>1.000000</td>\n",
       "      <td>0.100000</td>\n",
       "    </tr>\n",
       "    <tr>\n",
       "      <th>25%</th>\n",
       "      <td>2.800000</td>\n",
       "      <td>1.600000</td>\n",
       "      <td>0.300000</td>\n",
       "    </tr>\n",
       "    <tr>\n",
       "      <th>50%</th>\n",
       "      <td>3.000000</td>\n",
       "      <td>4.350000</td>\n",
       "      <td>1.300000</td>\n",
       "    </tr>\n",
       "    <tr>\n",
       "      <th>75%</th>\n",
       "      <td>3.300000</td>\n",
       "      <td>5.100000</td>\n",
       "      <td>1.800000</td>\n",
       "    </tr>\n",
       "    <tr>\n",
       "      <th>max</th>\n",
       "      <td>4.400000</td>\n",
       "      <td>6.900000</td>\n",
       "      <td>2.500000</td>\n",
       "    </tr>\n",
       "  </tbody>\n",
       "</table>\n",
       "</div>"
      ],
      "text/plain": [
       "                B           C           D\n",
       "count  150.000000  150.000000  150.000000\n",
       "mean     3.054000    3.758667    1.198667\n",
       "std      0.433594    1.764420    0.763161\n",
       "min      2.000000    1.000000    0.100000\n",
       "25%      2.800000    1.600000    0.300000\n",
       "50%      3.000000    4.350000    1.300000\n",
       "75%      3.300000    5.100000    1.800000\n",
       "max      4.400000    6.900000    2.500000"
      ]
     },
     "execution_count": 7,
     "metadata": {},
     "output_type": "execute_result"
    }
   ],
   "source": [
    "df.describe()"
   ]
  },
  {
   "cell_type": "code",
   "execution_count": 9,
   "id": "5a2eabc8",
   "metadata": {},
   "outputs": [],
   "source": [
    "X = df.iloc[:, :-1].values\n",
    "y = df.iloc[:, 3].values"
   ]
  },
  {
   "cell_type": "code",
   "execution_count": 11,
   "id": "8607f48f",
   "metadata": {},
   "outputs": [
    {
     "data": {
      "text/plain": [
       "(array([[3.5, 1.4, 0.2],\n",
       "        [3. , 1.4, 0.2],\n",
       "        [3.2, 1.3, 0.2],\n",
       "        [3.1, 1.5, 0.2],\n",
       "        [3.6, 1.4, 0.2],\n",
       "        [3.9, 1.7, 0.4],\n",
       "        [3.4, 1.4, 0.3],\n",
       "        [3.4, 1.5, 0.2],\n",
       "        [2.9, 1.4, 0.2],\n",
       "        [3.1, 1.5, 0.1],\n",
       "        [3.7, 1.5, 0.2],\n",
       "        [3.4, 1.6, 0.2],\n",
       "        [3. , 1.4, 0.1],\n",
       "        [3. , 1.1, 0.1],\n",
       "        [4. , 1.2, 0.2],\n",
       "        [4.4, 1.5, 0.4],\n",
       "        [3.9, 1.3, 0.4],\n",
       "        [3.5, 1.4, 0.3],\n",
       "        [3.8, 1.7, 0.3],\n",
       "        [3.8, 1.5, 0.3],\n",
       "        [3.4, 1.7, 0.2],\n",
       "        [3.7, 1.5, 0.4],\n",
       "        [3.6, 1. , 0.2],\n",
       "        [3.3, 1.7, 0.5],\n",
       "        [3.4, 1.9, 0.2],\n",
       "        [3. , 1.6, 0.2],\n",
       "        [3.4, 1.6, 0.4],\n",
       "        [3.5, 1.5, 0.2],\n",
       "        [3.4, 1.4, 0.2],\n",
       "        [3.2, 1.6, 0.2],\n",
       "        [3.1, 1.6, 0.2],\n",
       "        [3.4, 1.5, 0.4],\n",
       "        [4.1, 1.5, 0.1],\n",
       "        [4.2, 1.4, 0.2],\n",
       "        [3.1, 1.5, 0.1],\n",
       "        [3.2, 1.2, 0.2],\n",
       "        [3.5, 1.3, 0.2],\n",
       "        [3.1, 1.5, 0.1],\n",
       "        [3. , 1.3, 0.2],\n",
       "        [3.4, 1.5, 0.2],\n",
       "        [3.5, 1.3, 0.3],\n",
       "        [2.3, 1.3, 0.3],\n",
       "        [3.2, 1.3, 0.2],\n",
       "        [3.5, 1.6, 0.6],\n",
       "        [3.8, 1.9, 0.4],\n",
       "        [3. , 1.4, 0.3],\n",
       "        [3.8, 1.6, 0.2],\n",
       "        [3.2, 1.4, 0.2],\n",
       "        [3.7, 1.5, 0.2],\n",
       "        [3.3, 1.4, 0.2],\n",
       "        [3.2, 4.7, 1.4],\n",
       "        [3.2, 4.5, 1.5],\n",
       "        [3.1, 4.9, 1.5],\n",
       "        [2.3, 4. , 1.3],\n",
       "        [2.8, 4.6, 1.5],\n",
       "        [2.8, 4.5, 1.3],\n",
       "        [3.3, 4.7, 1.6],\n",
       "        [2.4, 3.3, 1. ],\n",
       "        [2.9, 4.6, 1.3],\n",
       "        [2.7, 3.9, 1.4],\n",
       "        [2. , 3.5, 1. ],\n",
       "        [3. , 4.2, 1.5],\n",
       "        [2.2, 4. , 1. ],\n",
       "        [2.9, 4.7, 1.4],\n",
       "        [2.9, 3.6, 1.3],\n",
       "        [3.1, 4.4, 1.4],\n",
       "        [3. , 4.5, 1.5],\n",
       "        [2.7, 4.1, 1. ],\n",
       "        [2.2, 4.5, 1.5],\n",
       "        [2.5, 3.9, 1.1],\n",
       "        [3.2, 4.8, 1.8],\n",
       "        [2.8, 4. , 1.3],\n",
       "        [2.5, 4.9, 1.5],\n",
       "        [2.8, 4.7, 1.2],\n",
       "        [2.9, 4.3, 1.3],\n",
       "        [3. , 4.4, 1.4],\n",
       "        [2.8, 4.8, 1.4],\n",
       "        [3. , 5. , 1.7],\n",
       "        [2.9, 4.5, 1.5],\n",
       "        [2.6, 3.5, 1. ],\n",
       "        [2.4, 3.8, 1.1],\n",
       "        [2.4, 3.7, 1. ],\n",
       "        [2.7, 3.9, 1.2],\n",
       "        [2.7, 5.1, 1.6],\n",
       "        [3. , 4.5, 1.5],\n",
       "        [3.4, 4.5, 1.6],\n",
       "        [3.1, 4.7, 1.5],\n",
       "        [2.3, 4.4, 1.3],\n",
       "        [3. , 4.1, 1.3],\n",
       "        [2.5, 4. , 1.3],\n",
       "        [2.6, 4.4, 1.2],\n",
       "        [3. , 4.6, 1.4],\n",
       "        [2.6, 4. , 1.2],\n",
       "        [2.3, 3.3, 1. ],\n",
       "        [2.7, 4.2, 1.3],\n",
       "        [3. , 4.2, 1.2],\n",
       "        [2.9, 4.2, 1.3],\n",
       "        [2.9, 4.3, 1.3],\n",
       "        [2.5, 3. , 1.1],\n",
       "        [2.8, 4.1, 1.3],\n",
       "        [3.3, 6. , 2.5],\n",
       "        [2.7, 5.1, 1.9],\n",
       "        [3. , 5.9, 2.1],\n",
       "        [2.9, 5.6, 1.8],\n",
       "        [3. , 5.8, 2.2],\n",
       "        [3. , 6.6, 2.1],\n",
       "        [2.5, 4.5, 1.7],\n",
       "        [2.9, 6.3, 1.8],\n",
       "        [2.5, 5.8, 1.8],\n",
       "        [3.6, 6.1, 2.5],\n",
       "        [3.2, 5.1, 2. ],\n",
       "        [2.7, 5.3, 1.9],\n",
       "        [3. , 5.5, 2.1],\n",
       "        [2.5, 5. , 2. ],\n",
       "        [2.8, 5.1, 2.4],\n",
       "        [3.2, 5.3, 2.3],\n",
       "        [3. , 5.5, 1.8],\n",
       "        [3.8, 6.7, 2.2],\n",
       "        [2.6, 6.9, 2.3],\n",
       "        [2.2, 5. , 1.5],\n",
       "        [3.2, 5.7, 2.3],\n",
       "        [2.8, 4.9, 2. ],\n",
       "        [2.8, 6.7, 2. ],\n",
       "        [2.7, 4.9, 1.8],\n",
       "        [3.3, 5.7, 2.1],\n",
       "        [3.2, 6. , 1.8],\n",
       "        [2.8, 4.8, 1.8],\n",
       "        [3. , 4.9, 1.8],\n",
       "        [2.8, 5.6, 2.1],\n",
       "        [3. , 5.8, 1.6],\n",
       "        [2.8, 6.1, 1.9],\n",
       "        [3.8, 6.4, 2. ],\n",
       "        [2.8, 5.6, 2.2],\n",
       "        [2.8, 5.1, 1.5],\n",
       "        [2.6, 5.6, 1.4],\n",
       "        [3. , 6.1, 2.3],\n",
       "        [3.4, 5.6, 2.4],\n",
       "        [3.1, 5.5, 1.8],\n",
       "        [3. , 4.8, 1.8],\n",
       "        [3.1, 5.4, 2.1],\n",
       "        [3.1, 5.6, 2.4],\n",
       "        [3.1, 5.1, 2.3],\n",
       "        [2.7, 5.1, 1.9],\n",
       "        [3.2, 5.9, 2.3],\n",
       "        [3.3, 5.7, 2.5],\n",
       "        [3. , 5.2, 2.3],\n",
       "        [2.5, 5. , 1.9],\n",
       "        [3. , 5.2, 2. ],\n",
       "        [3.4, 5.4, 2.3],\n",
       "        [3. , 5.1, 1.8]]),\n",
       " array(['Iris-setosa', 'Iris-setosa', 'Iris-setosa', 'Iris-setosa',\n",
       "        'Iris-setosa', 'Iris-setosa', 'Iris-setosa', 'Iris-setosa',\n",
       "        'Iris-setosa', 'Iris-setosa', 'Iris-setosa', 'Iris-setosa',\n",
       "        'Iris-setosa', 'Iris-setosa', 'Iris-setosa', 'Iris-setosa',\n",
       "        'Iris-setosa', 'Iris-setosa', 'Iris-setosa', 'Iris-setosa',\n",
       "        'Iris-setosa', 'Iris-setosa', 'Iris-setosa', 'Iris-setosa',\n",
       "        'Iris-setosa', 'Iris-setosa', 'Iris-setosa', 'Iris-setosa',\n",
       "        'Iris-setosa', 'Iris-setosa', 'Iris-setosa', 'Iris-setosa',\n",
       "        'Iris-setosa', 'Iris-setosa', 'Iris-setosa', 'Iris-setosa',\n",
       "        'Iris-setosa', 'Iris-setosa', 'Iris-setosa', 'Iris-setosa',\n",
       "        'Iris-setosa', 'Iris-setosa', 'Iris-setosa', 'Iris-setosa',\n",
       "        'Iris-setosa', 'Iris-setosa', 'Iris-setosa', 'Iris-setosa',\n",
       "        'Iris-setosa', 'Iris-setosa', 'Iris-versicolor', 'Iris-versicolor',\n",
       "        'Iris-versicolor', 'Iris-versicolor', 'Iris-versicolor',\n",
       "        'Iris-versicolor', 'Iris-versicolor', 'Iris-versicolor',\n",
       "        'Iris-versicolor', 'Iris-versicolor', 'Iris-versicolor',\n",
       "        'Iris-versicolor', 'Iris-versicolor', 'Iris-versicolor',\n",
       "        'Iris-versicolor', 'Iris-versicolor', 'Iris-versicolor',\n",
       "        'Iris-versicolor', 'Iris-versicolor', 'Iris-versicolor',\n",
       "        'Iris-versicolor', 'Iris-versicolor', 'Iris-versicolor',\n",
       "        'Iris-versicolor', 'Iris-versicolor', 'Iris-versicolor',\n",
       "        'Iris-versicolor', 'Iris-versicolor', 'Iris-versicolor',\n",
       "        'Iris-versicolor', 'Iris-versicolor', 'Iris-versicolor',\n",
       "        'Iris-versicolor', 'Iris-versicolor', 'Iris-versicolor',\n",
       "        'Iris-versicolor', 'Iris-versicolor', 'Iris-versicolor',\n",
       "        'Iris-versicolor', 'Iris-versicolor', 'Iris-versicolor',\n",
       "        'Iris-versicolor', 'Iris-versicolor', 'Iris-versicolor',\n",
       "        'Iris-versicolor', 'Iris-versicolor', 'Iris-versicolor',\n",
       "        'Iris-versicolor', 'Iris-versicolor', 'Iris-versicolor',\n",
       "        'Iris-virginica', 'Iris-virginica', 'Iris-virginica',\n",
       "        'Iris-virginica', 'Iris-virginica', 'Iris-virginica',\n",
       "        'Iris-virginica', 'Iris-virginica', 'Iris-virginica',\n",
       "        'Iris-virginica', 'Iris-virginica', 'Iris-virginica',\n",
       "        'Iris-virginica', 'Iris-virginica', 'Iris-virginica',\n",
       "        'Iris-virginica', 'Iris-virginica', 'Iris-virginica',\n",
       "        'Iris-virginica', 'Iris-virginica', 'Iris-virginica',\n",
       "        'Iris-virginica', 'Iris-virginica', 'Iris-virginica',\n",
       "        'Iris-virginica', 'Iris-virginica', 'Iris-virginica',\n",
       "        'Iris-virginica', 'Iris-virginica', 'Iris-virginica',\n",
       "        'Iris-virginica', 'Iris-virginica', 'Iris-virginica',\n",
       "        'Iris-virginica', 'Iris-virginica', 'Iris-virginica',\n",
       "        'Iris-virginica', 'Iris-virginica', 'Iris-virginica',\n",
       "        'Iris-virginica', 'Iris-virginica', 'Iris-virginica',\n",
       "        'Iris-virginica', 'Iris-virginica', 'Iris-virginica',\n",
       "        'Iris-virginica', 'Iris-virginica', 'Iris-virginica',\n",
       "        'Iris-virginica', 'Iris-virginica'], dtype=object))"
      ]
     },
     "execution_count": 11,
     "metadata": {},
     "output_type": "execute_result"
    }
   ],
   "source": [
    "X,y"
   ]
  },
  {
   "cell_type": "code",
   "execution_count": 12,
   "id": "1e0b0c36",
   "metadata": {},
   "outputs": [],
   "source": [
    "from sklearn.model_selection import train_test_split\n",
    "X_train, X_test, y_train, y_test = train_test_split(X, y, test_size=0.20)"
   ]
  },
  {
   "cell_type": "code",
   "execution_count": 13,
   "id": "e394ec77",
   "metadata": {},
   "outputs": [],
   "source": [
    "from sklearn.preprocessing import StandardScaler\n",
    "scaler = StandardScaler()\n",
    "scaler.fit(X_train)\n",
    "\n",
    "X_train = scaler.transform(X_train)\n",
    "X_test = scaler.transform(X_test)"
   ]
  },
  {
   "cell_type": "code",
   "execution_count": 14,
   "id": "4042eaf0",
   "metadata": {},
   "outputs": [
    {
     "data": {
      "text/plain": [
       "KNeighborsClassifier()"
      ]
     },
     "execution_count": 14,
     "metadata": {},
     "output_type": "execute_result"
    }
   ],
   "source": [
    "from sklearn.neighbors import KNeighborsClassifier\n",
    "classifier = KNeighborsClassifier(n_neighbors=5)\n",
    "classifier.fit(X_train, y_train)"
   ]
  },
  {
   "cell_type": "code",
   "execution_count": 15,
   "id": "824d7323",
   "metadata": {},
   "outputs": [],
   "source": [
    "y_pred = classifier.predict(X_test)"
   ]
  },
  {
   "cell_type": "code",
   "execution_count": 16,
   "id": "f13e0e7f",
   "metadata": {},
   "outputs": [
    {
     "name": "stdout",
     "output_type": "stream",
     "text": [
      "[[12  1  0]\n",
      " [ 0  5  1]\n",
      " [ 0  1 10]]\n",
      "                 precision    recall  f1-score   support\n",
      "\n",
      "    Iris-setosa       1.00      0.92      0.96        13\n",
      "Iris-versicolor       0.71      0.83      0.77         6\n",
      " Iris-virginica       0.91      0.91      0.91        11\n",
      "\n",
      "       accuracy                           0.90        30\n",
      "      macro avg       0.87      0.89      0.88        30\n",
      "   weighted avg       0.91      0.90      0.90        30\n",
      "\n"
     ]
    }
   ],
   "source": [
    "from sklearn.metrics import classification_report, confusion_matrix\n",
    "print(confusion_matrix(y_test, y_pred))\n",
    "print(classification_report(y_test, y_pred))"
   ]
  }
 ],
 "metadata": {
  "kernelspec": {
   "display_name": "Python 3 (ipykernel)",
   "language": "python",
   "name": "python3"
  },
  "language_info": {
   "codemirror_mode": {
    "name": "ipython",
    "version": 3
   },
   "file_extension": ".py",
   "mimetype": "text/x-python",
   "name": "python",
   "nbconvert_exporter": "python",
   "pygments_lexer": "ipython3",
   "version": "3.9.7"
  }
 },
 "nbformat": 4,
 "nbformat_minor": 5
}
